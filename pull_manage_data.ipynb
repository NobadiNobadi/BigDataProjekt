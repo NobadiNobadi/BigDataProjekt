{
 "cells": [
  {
   "cell_type": "code",
   "execution_count": 7,
   "id": "d555e126",
   "metadata": {},
   "outputs": [],
   "source": [
    "import requests\n",
    "import pandas as pd\n",
    "import time\n",
    "import datetime\n",
    "url = \"https://api-nba-v1.p.rapidapi.com/players\""
   ]
  },
  {
   "cell_type": "code",
   "execution_count": 5,
   "id": "fcad6af2",
   "metadata": {},
   "outputs": [],
   "source": [
    "# values = ['id', 'firstname', 'lastname']\n",
    "# players = pd.DataFrame(columns=['player_id', 'firstname', 'lastname', 'club_id'])"
   ]
  },
  {
   "cell_type": "code",
   "execution_count": 6,
   "id": "611d22ed",
   "metadata": {},
   "outputs": [],
   "source": [
    "# %%time\n",
    "# for i in teams.iterrows():\n",
    "#     t1 = i[1]['id']\n",
    "#     querystring = {\"team\":str(t1),\"season\":\"2021\"}\n",
    "#     headers = {\n",
    "#         \"X-RapidAPI-Key\": \"b7cdf8a061msha6605f17d4a77b0p193a75jsn0af2096a4daf\",\n",
    "#         \"X-RapidAPI-Host\": \"api-nba-v1.p.rapidapi.com\"\n",
    "#     }\n",
    "#     response = requests.get(url, headers=headers, params=querystring)\n",
    "#     t2 = response.json()\n",
    "#     response.close()\n",
    "#     for j in t2['response']:\n",
    "#         row = [j[value] for value in values]\n",
    "#         row.append(str(t1))\n",
    "#         players.loc[len(players)] = row\n",
    "#     print(i[1]['name'])\n",
    "#     time.sleep(60)\n",
    "    "
   ]
  },
  {
   "cell_type": "code",
   "execution_count": 7,
   "id": "5149f05e",
   "metadata": {},
   "outputs": [],
   "source": [
    "# players"
   ]
  },
  {
   "cell_type": "code",
   "execution_count": 8,
   "id": "f049f65b",
   "metadata": {},
   "outputs": [],
   "source": [
    "# players.to_excel('nba_players.xlsx')"
   ]
  },
  {
   "cell_type": "code",
   "execution_count": 8,
   "id": "76b21e52",
   "metadata": {},
   "outputs": [],
   "source": [
    "stats_values = ['min','points', 'fgm', 'fga', 'fgp', 'ftm', 'fta', 'ftp', 'tpm', 'tpa', 'tpp', 'offReb', 'defReb', 'totReb','assists', 'pFouls', 'steals', 'turnovers', 'blocks', 'plusMinus']\n",
    "# players_stats = pd.DataFrame(columns=['player_id', 'games', 'min', 'points', 'fgm', 'fga', 'fgp', 'ftm', 'fta', 'ftp', 'tpm', 'tpa', 'tpp', 'offReb', 'defReb', 'totReb','assists', 'pFouls', 'steals', 'turnovers', 'blocks', 'plusMinus'])\n",
    "# players_stats.to_excel('players_stats.xlsx', index=None)"
   ]
  },
  {
   "cell_type": "code",
   "execution_count": 13,
   "id": "8ccd05fe",
   "metadata": {},
   "outputs": [],
   "source": [
    "df_players = pd.read_excel('nba_players.xlsx')\n",
    "df_stats = pd.read_excel('players_stats.xlsx')"
   ]
  },
  {
   "cell_type": "code",
   "execution_count": 16,
   "id": "736487dd",
   "metadata": {},
   "outputs": [],
   "source": [
    "# df_players"
   ]
  },
  {
   "cell_type": "code",
   "execution_count": 17,
   "id": "8acfee2d",
   "metadata": {},
   "outputs": [],
   "source": [
    "# df_stats"
   ]
  },
  {
   "cell_type": "code",
   "execution_count": 28,
   "id": "b205208a",
   "metadata": {},
   "outputs": [],
   "source": [
    "# from IPython.display import display\n",
    "# merged_df = pd.merge(df_players, df_stats, on='player_id')\n",
    "# filtered_df = merged_df.loc[merged_df['lastname'] == 'Ball']\n",
    "# pd.set_option('display.max_rows', None)\n",
    "# filtered_df"
   ]
  },
  {
   "cell_type": "code",
   "execution_count": 12,
   "id": "2c16c431",
   "metadata": {},
   "outputs": [
    {
     "name": "stdout",
     "output_type": "stream",
     "text": [
      "Jordan Goodwin\n",
      "Austin Hollins\n"
     ]
    }
   ],
   "source": [
    "df_players = pd.read_excel('nba_players.xlsx')\n",
    "df_stats = pd.read_excel('players_stats.xlsx')\n",
    "url_player_stats = \"https://api-nba-v1.p.rapidapi.com/players/statistics\"\n",
    "headers = {\n",
    "    \"X-RapidAPI-Key\": \"b7cdf8a061msha6605f17d4a77b0p193a75jsn0af2096a4daf\",\n",
    "    \"X-RapidAPI-Host\": \"api-nba-v1.p.rapidapi.com\"\n",
    "}\n",
    "counter_players = 0\n",
    "for i in df_players.iterrows():\n",
    "    if counter_players == 10:\n",
    "        break\n",
    "    temp_stats = [0 for _ in range(len(stats_values)+2)]\n",
    "    p_id = i[1]['player_id']\n",
    "    if not df_stats['player_id'].isin([p_id]).any():\n",
    "        querystring = {\"id\":str(p_id),\"season\":\"2021\"}\n",
    "        response = requests.get(url_player_stats, headers=headers, params=querystring)\n",
    "        t2 = response.json()\n",
    "        response.close()\n",
    "        counter = 0\n",
    "        temp_stats[2] = datetime.timedelta()\n",
    "        if 'response' in t2:\n",
    "            for j in t2['response']:\n",
    "                row = [j[value] for value in stats_values]\n",
    "                if (row[0] != '0:00' and row[0] and row[0] != '0'):\n",
    "                    temp_time = datetime.datetime.strptime(row[0], '%M:%S').time()\n",
    "                    temp_stats[2] += datetime.timedelta(minutes=temp_time.minute, seconds = temp_time.second)\n",
    "                    for m in range(1, len(row)):\n",
    "                        temp_stats[m+2] += float(row[m])\n",
    "                    counter += 1\n",
    "        if counter > 0:\n",
    "            temp_stats = [item/counter for item in temp_stats]\n",
    "        temp_stats[0] = p_id\n",
    "        temp_stats[1] = counter\n",
    "        temp_stats[2] = str(temp_stats[2])\n",
    "        df_stats.loc[len(df_stats)] = temp_stats\n",
    "        print(i[1]['firstname'] + ' ' + i[1]['lastname'])\n",
    "        counter_players += 1\n",
    "        time.sleep(2)\n",
    "    if counter_players % 10 == 0 and counter_players > 0:\n",
    "        time.sleep(60)\n",
    "        df_stats.to_excel('players_stats.xlsx', index=None)"
   ]
  },
  {
   "cell_type": "code",
   "execution_count": null,
   "id": "437cfcf6",
   "metadata": {},
   "outputs": [],
   "source": []
  }
 ],
 "metadata": {
  "kernelspec": {
   "display_name": "Python 3 (ipykernel)",
   "language": "python",
   "name": "python3"
  },
  "language_info": {
   "codemirror_mode": {
    "name": "ipython",
    "version": 3
   },
   "file_extension": ".py",
   "mimetype": "text/x-python",
   "name": "python",
   "nbconvert_exporter": "python",
   "pygments_lexer": "ipython3",
   "version": "3.10.10"
  }
 },
 "nbformat": 4,
 "nbformat_minor": 5
}
